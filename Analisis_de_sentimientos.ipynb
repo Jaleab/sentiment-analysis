{
  "nbformat": 4,
  "nbformat_minor": 0,
  "metadata": {
    "colab": {
      "name": "Analisis_de_sentimientos.ipynb",
      "provenance": [],
      "collapsed_sections": []
    },
    "kernelspec": {
      "name": "python3",
      "display_name": "Python 3"
    },
    "language_info": {
      "name": "python"
    }
  },
  "cells": [
    {
      "cell_type": "markdown",
      "metadata": {
        "id": "SzqPm2hNKeTQ"
      },
      "source": [
        "Train: https://www.kaggle.com/crowdflower/twitter-airline-sentiment\n",
        "Evaluate: https://www.kaggle.com/lakshmi25npathi/imdb-dataset-of-50k-movie-reviews\n",
        "\n",
        "\n",
        "Tutorial base. Basicamente voy a analizar sentimientos en diferente contexto\n",
        "https://www.kaggle.com/lykin22/twitter-sentiment-analysis-with-naive-bayes-85-acc\n"
      ]
    },
    {
      "cell_type": "code",
      "metadata": {
        "id": "Bms6c1R6selY"
      },
      "source": [
        "import pandas as pd\n",
        "import numpy as np\n",
        "import matplotlib as nlp\n",
        "from sklearn.model_selection import GridSearchCV\n",
        "from sklearn.model_selection import cross_val_score\n",
        "from sklearn import metrics\n",
        "from math import *\n",
        "from sklearn.model_selection import train_test_split\n",
        "from sklearn import svm\n",
        "from sklearn.feature_extraction.text import TfidfVectorizer\n",
        "from sklearn.metrics import classification_report\n",
        "\n",
        "import re"
      ],
      "execution_count": 195,
      "outputs": []
    },
    {
      "cell_type": "code",
      "metadata": {
        "id": "McwIQM2xIL4Q"
      },
      "source": [
        "airline_tweets = pd.read_csv('https://raw.githubusercontent.com/Jaleab/sentiment-analysis/main/Tweets.csv')\n",
        "movie_reviews = pd.read_csv('https://raw.githubusercontent.com/Jaleab/sentiment-analysis/main/IMDB%20Dataset.csv')\n"
      ],
      "execution_count": 196,
      "outputs": []
    },
    {
      "cell_type": "markdown",
      "metadata": {
        "id": "ock2t5XjL7--"
      },
      "source": [
        "**EDA**"
      ]
    },
    {
      "cell_type": "code",
      "metadata": {
        "colab": {
          "base_uri": "https://localhost:8080/",
          "height": 452
        },
        "id": "Vu23YbhYMA1p",
        "outputId": "84c0b616-4295-46c8-d0a8-a72e1509f57b"
      },
      "source": [
        "airline_tweets.head()"
      ],
      "execution_count": 197,
      "outputs": [
        {
          "output_type": "execute_result",
          "data": {
            "text/html": [
              "<div>\n",
              "<style scoped>\n",
              "    .dataframe tbody tr th:only-of-type {\n",
              "        vertical-align: middle;\n",
              "    }\n",
              "\n",
              "    .dataframe tbody tr th {\n",
              "        vertical-align: top;\n",
              "    }\n",
              "\n",
              "    .dataframe thead th {\n",
              "        text-align: right;\n",
              "    }\n",
              "</style>\n",
              "<table border=\"1\" class=\"dataframe\">\n",
              "  <thead>\n",
              "    <tr style=\"text-align: right;\">\n",
              "      <th></th>\n",
              "      <th>tweet_id</th>\n",
              "      <th>airline_sentiment</th>\n",
              "      <th>airline_sentiment_confidence</th>\n",
              "      <th>negativereason</th>\n",
              "      <th>negativereason_confidence</th>\n",
              "      <th>airline</th>\n",
              "      <th>airline_sentiment_gold</th>\n",
              "      <th>name</th>\n",
              "      <th>negativereason_gold</th>\n",
              "      <th>retweet_count</th>\n",
              "      <th>text</th>\n",
              "      <th>tweet_coord</th>\n",
              "      <th>tweet_created</th>\n",
              "      <th>tweet_location</th>\n",
              "      <th>user_timezone</th>\n",
              "    </tr>\n",
              "  </thead>\n",
              "  <tbody>\n",
              "    <tr>\n",
              "      <th>0</th>\n",
              "      <td>570306133677760513</td>\n",
              "      <td>neutral</td>\n",
              "      <td>1.0000</td>\n",
              "      <td>NaN</td>\n",
              "      <td>NaN</td>\n",
              "      <td>Virgin America</td>\n",
              "      <td>NaN</td>\n",
              "      <td>cairdin</td>\n",
              "      <td>NaN</td>\n",
              "      <td>0</td>\n",
              "      <td>@VirginAmerica What @dhepburn said.</td>\n",
              "      <td>NaN</td>\n",
              "      <td>2015-02-24 11:35:52 -0800</td>\n",
              "      <td>NaN</td>\n",
              "      <td>Eastern Time (US &amp; Canada)</td>\n",
              "    </tr>\n",
              "    <tr>\n",
              "      <th>1</th>\n",
              "      <td>570301130888122368</td>\n",
              "      <td>positive</td>\n",
              "      <td>0.3486</td>\n",
              "      <td>NaN</td>\n",
              "      <td>0.0000</td>\n",
              "      <td>Virgin America</td>\n",
              "      <td>NaN</td>\n",
              "      <td>jnardino</td>\n",
              "      <td>NaN</td>\n",
              "      <td>0</td>\n",
              "      <td>@VirginAmerica plus you've added commercials t...</td>\n",
              "      <td>NaN</td>\n",
              "      <td>2015-02-24 11:15:59 -0800</td>\n",
              "      <td>NaN</td>\n",
              "      <td>Pacific Time (US &amp; Canada)</td>\n",
              "    </tr>\n",
              "    <tr>\n",
              "      <th>2</th>\n",
              "      <td>570301083672813571</td>\n",
              "      <td>neutral</td>\n",
              "      <td>0.6837</td>\n",
              "      <td>NaN</td>\n",
              "      <td>NaN</td>\n",
              "      <td>Virgin America</td>\n",
              "      <td>NaN</td>\n",
              "      <td>yvonnalynn</td>\n",
              "      <td>NaN</td>\n",
              "      <td>0</td>\n",
              "      <td>@VirginAmerica I didn't today... Must mean I n...</td>\n",
              "      <td>NaN</td>\n",
              "      <td>2015-02-24 11:15:48 -0800</td>\n",
              "      <td>Lets Play</td>\n",
              "      <td>Central Time (US &amp; Canada)</td>\n",
              "    </tr>\n",
              "    <tr>\n",
              "      <th>3</th>\n",
              "      <td>570301031407624196</td>\n",
              "      <td>negative</td>\n",
              "      <td>1.0000</td>\n",
              "      <td>Bad Flight</td>\n",
              "      <td>0.7033</td>\n",
              "      <td>Virgin America</td>\n",
              "      <td>NaN</td>\n",
              "      <td>jnardino</td>\n",
              "      <td>NaN</td>\n",
              "      <td>0</td>\n",
              "      <td>@VirginAmerica it's really aggressive to blast...</td>\n",
              "      <td>NaN</td>\n",
              "      <td>2015-02-24 11:15:36 -0800</td>\n",
              "      <td>NaN</td>\n",
              "      <td>Pacific Time (US &amp; Canada)</td>\n",
              "    </tr>\n",
              "    <tr>\n",
              "      <th>4</th>\n",
              "      <td>570300817074462722</td>\n",
              "      <td>negative</td>\n",
              "      <td>1.0000</td>\n",
              "      <td>Can't Tell</td>\n",
              "      <td>1.0000</td>\n",
              "      <td>Virgin America</td>\n",
              "      <td>NaN</td>\n",
              "      <td>jnardino</td>\n",
              "      <td>NaN</td>\n",
              "      <td>0</td>\n",
              "      <td>@VirginAmerica and it's a really big bad thing...</td>\n",
              "      <td>NaN</td>\n",
              "      <td>2015-02-24 11:14:45 -0800</td>\n",
              "      <td>NaN</td>\n",
              "      <td>Pacific Time (US &amp; Canada)</td>\n",
              "    </tr>\n",
              "  </tbody>\n",
              "</table>\n",
              "</div>"
            ],
            "text/plain": [
              "             tweet_id  ...               user_timezone\n",
              "0  570306133677760513  ...  Eastern Time (US & Canada)\n",
              "1  570301130888122368  ...  Pacific Time (US & Canada)\n",
              "2  570301083672813571  ...  Central Time (US & Canada)\n",
              "3  570301031407624196  ...  Pacific Time (US & Canada)\n",
              "4  570300817074462722  ...  Pacific Time (US & Canada)\n",
              "\n",
              "[5 rows x 15 columns]"
            ]
          },
          "metadata": {},
          "execution_count": 197
        }
      ]
    },
    {
      "cell_type": "code",
      "metadata": {
        "colab": {
          "base_uri": "https://localhost:8080/"
        },
        "id": "EKeCi0NVPEuV",
        "outputId": "e97d20c9-7829-4563-8828-9f510f8f6363"
      },
      "source": [
        "airline_tweets.columns"
      ],
      "execution_count": 198,
      "outputs": [
        {
          "output_type": "execute_result",
          "data": {
            "text/plain": [
              "Index(['tweet_id', 'airline_sentiment', 'airline_sentiment_confidence',\n",
              "       'negativereason', 'negativereason_confidence', 'airline',\n",
              "       'airline_sentiment_gold', 'name', 'negativereason_gold',\n",
              "       'retweet_count', 'text', 'tweet_coord', 'tweet_created',\n",
              "       'tweet_location', 'user_timezone'],\n",
              "      dtype='object')"
            ]
          },
          "metadata": {},
          "execution_count": 198
        }
      ]
    },
    {
      "cell_type": "code",
      "metadata": {
        "colab": {
          "base_uri": "https://localhost:8080/",
          "height": 206
        },
        "id": "-xMG7DKYk7lT",
        "outputId": "616611f1-b274-4e3a-debe-1c5fe4322270"
      },
      "source": [
        "movie_reviews.head()"
      ],
      "execution_count": 199,
      "outputs": [
        {
          "output_type": "execute_result",
          "data": {
            "text/html": [
              "<div>\n",
              "<style scoped>\n",
              "    .dataframe tbody tr th:only-of-type {\n",
              "        vertical-align: middle;\n",
              "    }\n",
              "\n",
              "    .dataframe tbody tr th {\n",
              "        vertical-align: top;\n",
              "    }\n",
              "\n",
              "    .dataframe thead th {\n",
              "        text-align: right;\n",
              "    }\n",
              "</style>\n",
              "<table border=\"1\" class=\"dataframe\">\n",
              "  <thead>\n",
              "    <tr style=\"text-align: right;\">\n",
              "      <th></th>\n",
              "      <th>review</th>\n",
              "      <th>sentiment</th>\n",
              "    </tr>\n",
              "  </thead>\n",
              "  <tbody>\n",
              "    <tr>\n",
              "      <th>0</th>\n",
              "      <td>One of the other reviewers has mentioned that ...</td>\n",
              "      <td>positive</td>\n",
              "    </tr>\n",
              "    <tr>\n",
              "      <th>1</th>\n",
              "      <td>A wonderful little production. &lt;br /&gt;&lt;br /&gt;The...</td>\n",
              "      <td>positive</td>\n",
              "    </tr>\n",
              "    <tr>\n",
              "      <th>2</th>\n",
              "      <td>I thought this was a wonderful way to spend ti...</td>\n",
              "      <td>positive</td>\n",
              "    </tr>\n",
              "    <tr>\n",
              "      <th>3</th>\n",
              "      <td>Basically there's a family where a little boy ...</td>\n",
              "      <td>negative</td>\n",
              "    </tr>\n",
              "    <tr>\n",
              "      <th>4</th>\n",
              "      <td>Petter Mattei's \"Love in the Time of Money\" is...</td>\n",
              "      <td>positive</td>\n",
              "    </tr>\n",
              "  </tbody>\n",
              "</table>\n",
              "</div>"
            ],
            "text/plain": [
              "                                              review sentiment\n",
              "0  One of the other reviewers has mentioned that ...  positive\n",
              "1  A wonderful little production. <br /><br />The...  positive\n",
              "2  I thought this was a wonderful way to spend ti...  positive\n",
              "3  Basically there's a family where a little boy ...  negative\n",
              "4  Petter Mattei's \"Love in the Time of Money\" is...  positive"
            ]
          },
          "metadata": {},
          "execution_count": 199
        }
      ]
    },
    {
      "cell_type": "code",
      "metadata": {
        "colab": {
          "base_uri": "https://localhost:8080/"
        },
        "id": "4J5PqPivlBqC",
        "outputId": "46e77618-bb7c-42bc-9219-26ea5b349026"
      },
      "source": [
        "movie_reviews.columns"
      ],
      "execution_count": 200,
      "outputs": [
        {
          "output_type": "execute_result",
          "data": {
            "text/plain": [
              "Index(['review', 'sentiment'], dtype='object')"
            ]
          },
          "metadata": {},
          "execution_count": 200
        }
      ]
    },
    {
      "cell_type": "markdown",
      "metadata": {
        "id": "u9qZKbMnPLw3"
      },
      "source": [
        "**Revision de nulos**"
      ]
    },
    {
      "cell_type": "code",
      "metadata": {
        "colab": {
          "base_uri": "https://localhost:8080/"
        },
        "id": "xu5L2WZcMmw2",
        "outputId": "1440e50b-85a3-492b-e655-3a0818443e0f"
      },
      "source": [
        "airline_tweets.isnull().sum()"
      ],
      "execution_count": 201,
      "outputs": [
        {
          "output_type": "execute_result",
          "data": {
            "text/plain": [
              "tweet_id                            0\n",
              "airline_sentiment                   0\n",
              "airline_sentiment_confidence        0\n",
              "negativereason                   5462\n",
              "negativereason_confidence        4118\n",
              "airline                             0\n",
              "airline_sentiment_gold          14600\n",
              "name                                0\n",
              "negativereason_gold             14608\n",
              "retweet_count                       0\n",
              "text                                0\n",
              "tweet_coord                     13621\n",
              "tweet_created                       0\n",
              "tweet_location                   4733\n",
              "user_timezone                    4820\n",
              "dtype: int64"
            ]
          },
          "metadata": {},
          "execution_count": 201
        }
      ]
    },
    {
      "cell_type": "code",
      "metadata": {
        "colab": {
          "base_uri": "https://localhost:8080/"
        },
        "id": "e7S2JRZ6RH0d",
        "outputId": "f489f7fb-bca7-451c-863b-1041443afc63"
      },
      "source": [
        "movie_reviews.isnull().sum()"
      ],
      "execution_count": 202,
      "outputs": [
        {
          "output_type": "execute_result",
          "data": {
            "text/plain": [
              "review       0\n",
              "sentiment    0\n",
              "dtype: int64"
            ]
          },
          "metadata": {},
          "execution_count": 202
        }
      ]
    },
    {
      "cell_type": "markdown",
      "metadata": {
        "id": "jhV6j4krtZIz"
      },
      "source": [
        "Limpieza de columnas innecesarias"
      ]
    },
    {
      "cell_type": "code",
      "metadata": {
        "id": "zn7ufUGaQEVn"
      },
      "source": [
        "airline_tweets = airline_tweets.drop([\"tweet_coord\", \"user_timezone\", \"tweet_location\", \"name\",\"airline_sentiment_gold\",\"retweet_count\",\"tweet_created\"], axis=1)\n",
        "airline_tweets = airline_tweets.drop([\"tweet_id\", \"airline\", \"negativereason_gold\", \"airline_sentiment_confidence\", \"negativereason_confidence\"], axis=1)\n",
        "airline_tweets = airline_tweets.drop([\"negativereason\"], axis=1)\n"
      ],
      "execution_count": 203,
      "outputs": []
    },
    {
      "cell_type": "code",
      "metadata": {
        "colab": {
          "base_uri": "https://localhost:8080/",
          "height": 206
        },
        "id": "erF8Z2lJQz2n",
        "outputId": "b1176b9a-eaf0-44d9-be3c-bb4d244743c2"
      },
      "source": [
        "airline_tweets.head()"
      ],
      "execution_count": 204,
      "outputs": [
        {
          "output_type": "execute_result",
          "data": {
            "text/html": [
              "<div>\n",
              "<style scoped>\n",
              "    .dataframe tbody tr th:only-of-type {\n",
              "        vertical-align: middle;\n",
              "    }\n",
              "\n",
              "    .dataframe tbody tr th {\n",
              "        vertical-align: top;\n",
              "    }\n",
              "\n",
              "    .dataframe thead th {\n",
              "        text-align: right;\n",
              "    }\n",
              "</style>\n",
              "<table border=\"1\" class=\"dataframe\">\n",
              "  <thead>\n",
              "    <tr style=\"text-align: right;\">\n",
              "      <th></th>\n",
              "      <th>airline_sentiment</th>\n",
              "      <th>text</th>\n",
              "    </tr>\n",
              "  </thead>\n",
              "  <tbody>\n",
              "    <tr>\n",
              "      <th>0</th>\n",
              "      <td>neutral</td>\n",
              "      <td>@VirginAmerica What @dhepburn said.</td>\n",
              "    </tr>\n",
              "    <tr>\n",
              "      <th>1</th>\n",
              "      <td>positive</td>\n",
              "      <td>@VirginAmerica plus you've added commercials t...</td>\n",
              "    </tr>\n",
              "    <tr>\n",
              "      <th>2</th>\n",
              "      <td>neutral</td>\n",
              "      <td>@VirginAmerica I didn't today... Must mean I n...</td>\n",
              "    </tr>\n",
              "    <tr>\n",
              "      <th>3</th>\n",
              "      <td>negative</td>\n",
              "      <td>@VirginAmerica it's really aggressive to blast...</td>\n",
              "    </tr>\n",
              "    <tr>\n",
              "      <th>4</th>\n",
              "      <td>negative</td>\n",
              "      <td>@VirginAmerica and it's a really big bad thing...</td>\n",
              "    </tr>\n",
              "  </tbody>\n",
              "</table>\n",
              "</div>"
            ],
            "text/plain": [
              "  airline_sentiment                                               text\n",
              "0           neutral                @VirginAmerica What @dhepburn said.\n",
              "1          positive  @VirginAmerica plus you've added commercials t...\n",
              "2           neutral  @VirginAmerica I didn't today... Must mean I n...\n",
              "3          negative  @VirginAmerica it's really aggressive to blast...\n",
              "4          negative  @VirginAmerica and it's a really big bad thing..."
            ]
          },
          "metadata": {},
          "execution_count": 204
        }
      ]
    },
    {
      "cell_type": "code",
      "metadata": {
        "colab": {
          "base_uri": "https://localhost:8080/"
        },
        "id": "YOH9NfavUdAx",
        "outputId": "e2971893-0cde-4d2e-fa2f-649208009d2e"
      },
      "source": [
        "airline_tweets.airline_sentiment.value_counts()\n"
      ],
      "execution_count": 205,
      "outputs": [
        {
          "output_type": "execute_result",
          "data": {
            "text/plain": [
              "negative    9178\n",
              "neutral     3099\n",
              "positive    2363\n",
              "Name: airline_sentiment, dtype: int64"
            ]
          },
          "metadata": {},
          "execution_count": 205
        }
      ]
    },
    {
      "cell_type": "code",
      "metadata": {
        "colab": {
          "base_uri": "https://localhost:8080/"
        },
        "id": "KCRHJFfvleaF",
        "outputId": "57c602aa-e156-4220-9e66-9770ad0d371b"
      },
      "source": [
        "airline_tweets = airline_tweets[airline_tweets.airline_sentiment != 'neutral' ]\n",
        "airline_tweets.airline_sentiment.value_counts()"
      ],
      "execution_count": 206,
      "outputs": [
        {
          "output_type": "execute_result",
          "data": {
            "text/plain": [
              "negative    9178\n",
              "positive    2363\n",
              "Name: airline_sentiment, dtype: int64"
            ]
          },
          "metadata": {},
          "execution_count": 206
        }
      ]
    },
    {
      "cell_type": "code",
      "metadata": {
        "colab": {
          "base_uri": "https://localhost:8080/"
        },
        "id": "ZI5DWSkZbjQd",
        "outputId": "3db85e2e-6d43-4dbc-9136-cebf18ec35e2"
      },
      "source": [
        "# nltk\n",
        "import nltk\n",
        "from nltk.stem import WordNetLemmatizer\n",
        "from nltk.corpus import stopwords\n",
        "from nltk.tokenize import word_tokenize\n",
        "#Stop Words: A stop word is a commonly used word (such as “the”, “a”, “an”, “in”) \n",
        "#that a search engine has been programmed to ignore,\n",
        "#both when indexing entries for searching and when retrieving them as the result of a search query.\n",
        "nltk.download('stopwords')\n",
        "stopword = set(stopwords.words('english'))\n",
        "print(stopword)"
      ],
      "execution_count": 207,
      "outputs": [
        {
          "output_type": "stream",
          "name": "stdout",
          "text": [
            "[nltk_data] Downloading package stopwords to /root/nltk_data...\n",
            "[nltk_data]   Package stopwords is already up-to-date!\n",
            "{'been', \"couldn't\", 'your', 'that', 'out', 'during', 'herself', 'were', 'too', 'such', 'why', 'in', 'hasn', 've', 'yourselves', 'into', 'more', \"needn't\", 'now', 'few', 'down', 'these', 'their', 'very', 'how', \"mustn't\", \"didn't\", 'had', 'has', 'who', 'at', \"don't\", 'his', 'shouldn', 'we', 'what', 'himself', 'off', 'haven', \"shan't\", 'any', \"you're\", 'some', 'only', 'where', 'our', 'i', 'below', \"that'll\", 'not', 'between', \"shouldn't\", 'with', 'than', 'don', 'both', 't', 'further', 'hers', 'other', \"isn't\", \"won't\", 'it', 'do', 'being', \"haven't\", 'mightn', 'and', 'up', 'couldn', \"wasn't\", 'its', 'will', \"hadn't\", 'aren', 'theirs', 'won', 'again', 'when', 'nor', 'most', 'was', 'can', 'll', 'ain', \"wouldn't\", 'a', 're', 'ourselves', 'this', 'themselves', 'be', 'having', 'my', \"doesn't\", 'to', 'm', 'from', \"you've\", 'they', 'all', 'then', 'before', 'over', \"mightn't\", 'because', 'which', \"should've\", 'yours', 'ma', 'just', 'd', \"weren't\", 'needn', 'of', 'each', 'isn', \"hasn't\", 'itself', 'he', 'her', 'is', 'as', \"it's\", 'against', 'above', 'there', 'on', 'or', 'wasn', 'does', 'so', 'about', 'o', 'until', 'hadn', 'after', 'an', 's', 'wouldn', 'same', 'should', 'doesn', 'mustn', \"you'll\", 'yourself', 'have', 'me', 'once', 'am', 'myself', \"she's\", 'ours', 'y', 'them', 'did', 'here', 'the', 'him', 'doing', 'if', 'weren', \"aren't\", 'shan', 'didn', 'she', 'through', 'for', 'own', 'are', 'but', 'by', 'those', 'under', \"you'd\", 'you', 'no', 'while', 'whom'}\n"
          ]
        }
      ]
    },
    {
      "cell_type": "code",
      "metadata": {
        "id": "JPBF6dbacAhd"
      },
      "source": [
        "import warnings\n",
        "warnings.filterwarnings('ignore')\n",
        "import re\n",
        "import string\n",
        "import pickle\n",
        "urlPattern = r\"((http://)[^ ]*|(https://)[^ ]*|( www\\.)[^ ]*)\"\n",
        "userPattern = '@[^\\s]+'\n",
        "some = 'amp,today,tomorrow,going,girl'\n",
        "def process_text(text):\n",
        "  # Lower Casing\n",
        "    text = re.sub(r\"he's\", \"he is\", text )\n",
        "    text = re.sub(r\"there's\", \"there is\", text )\n",
        "    text = re.sub(r\"We're\", \"We are\", text )\n",
        "    text = re.sub(r\"That's\", \"That is\", text )\n",
        "    text = re.sub(r\"won't\", \"will not\", text )\n",
        "    text = re.sub(r\"they're\", \"they are\", text )\n",
        "    text = re.sub(r\"Can't\", \"Cannot\", text )\n",
        "    text = re.sub(r\"wasn't\", \"was not\", text )\n",
        "    text = re.sub(r\"don\\x89Ûªt\", \"do not\", text )\n",
        "    text = re.sub(r\"aren't\", \"are not\", text )\n",
        "    text = re.sub(r\"isn't\", \"is not\", text )\n",
        "    text = re.sub(r\"What's\", \"What is\", text )\n",
        "    text = re.sub(r\"haven't\", \"have not\", text )\n",
        "    text = re.sub(r\"hasn't\", \"has not\", text )\n",
        "    text = re.sub(r\"There's\", \"There is\", text )\n",
        "    text = re.sub(r\"He's\", \"He is\", text )\n",
        "    text = re.sub(r\"It's\", \"It is\", text )\n",
        "    text = re.sub(r\"You're\", \"You are\", text )\n",
        "    text = re.sub(r\"I'M\", \"I am\", text )\n",
        "    text = re.sub(r\"shouldn't\", \"should not\", text )\n",
        "    text = re.sub(r\"wouldn't\", \"would not\", text )\n",
        "    text = re.sub(r\"i'm\", \"I am\", text )\n",
        "    text = re.sub(r\"I\\x89Ûªm\", \"I am\", text )\n",
        "    text = re.sub(r\"I'm\", \"I am\", text )\n",
        "    text = re.sub(r\"Isn't\", \"is not\", text )\n",
        "    text = re.sub(r\"Here's\", \"Here is\", text )\n",
        "    text = re.sub(r\"you've\", \"you have\", text )\n",
        "    text = re.sub(r\"you\\x89Ûªve\", \"you have\", text )\n",
        "    text = re.sub(r\"we're\", \"we are\", text )\n",
        "    text = re.sub(r\"what's\", \"what is\", text )\n",
        "    text = re.sub(r\"couldn't\", \"could not\", text )\n",
        "    text = re.sub(r\"we've\", \"we have\", text )\n",
        "    text = re.sub(r\"it\\x89Ûªs\", \"it is\", text )\n",
        "    text = re.sub(r\"doesn\\x89Ûªt\", \"does not\", text )\n",
        "    text = re.sub(r\"It\\x89Ûªs\", \"It is\", text )\n",
        "    text = re.sub(r\"Here\\x89Ûªs\", \"Here is\", text )\n",
        "    text = re.sub(r\"who's\", \"who is\", text )\n",
        "    text = re.sub(r\"I\\x89Ûªve\", \"I have\", text )\n",
        "    text = re.sub(r\"y'all\", \"you all\", text )\n",
        "    text = re.sub(r\"can\\x89Ûªt\", \"cannot\", text )\n",
        "    text = re.sub(r\"would've\", \"would have\", text )\n",
        "    text = re.sub(r\"it'll\", \"it will\", text )\n",
        "    text = re.sub(r\"we'll\", \"we will\", text )\n",
        "    text = re.sub(r\"wouldn\\x89Ûªt\", \"would not\", text )\n",
        "    text = re.sub(r\"We've\", \"We have\", text )\n",
        "    text = re.sub(r\"he'll\", \"he will\", text )\n",
        "    text = re.sub(r\"Y'all\", \"You all\", text )\n",
        "    text = re.sub(r\"Weren't\", \"Were not\", text )\n",
        "    text = re.sub(r\"Didn't\", \"Did not\", text )\n",
        "    text = re.sub(r\"they'll\", \"they will\", text )\n",
        "    text = re.sub(r\"they'd\", \"they would\", text )\n",
        "    text = re.sub(r\"DON'T\", \"DO NOT\", text )\n",
        "    text = re.sub(r\"That\\x89Ûªs\", \"That is\", text )\n",
        "    text = re.sub(r\"they've\", \"they have\", text )\n",
        "    text = re.sub(r\"i'd\", \"I would\", text )\n",
        "    text = re.sub(r\"should've\", \"should have\", text )\n",
        "    text = re.sub(r\"You\\x89Ûªre\", \"You are\", text )\n",
        "    text = re.sub(r\"where's\", \"where is\", text )\n",
        "    text = re.sub(r\"Don\\x89Ûªt\", \"Do not\", text )\n",
        "    text = re.sub(r\"we'd\", \"we would\", text )\n",
        "    text = re.sub(r\"i'll\", \"I will\", text )\n",
        "    text = re.sub(r\"weren't\", \"were not\", text )\n",
        "    text = re.sub(r\"They're\", \"They are\", text )\n",
        "    text = re.sub(r\"Can\\x89Ûªt\", \"Cannot\", text )\n",
        "    text = re.sub(r\"you\\x89Ûªll\", \"you will\", text )\n",
        "    text = re.sub(r\"I\\x89Ûªd\", \"I would\", text )\n",
        "    text = re.sub(r\"let's\", \"let us\", text )\n",
        "    text = re.sub(r\"it's\", \"it is\", text )\n",
        "    text = re.sub(r\"can't\", \"cannot\", text )\n",
        "    text = re.sub(r\"don't\", \"do not\", text )\n",
        "    text = re.sub(r\"you're\", \"you are\", text )\n",
        "    text = re.sub(r\"i've\", \"I have\", text )\n",
        "    text = re.sub(r\"that's\", \"that is\", text )\n",
        "    text = re.sub(r\"i'll\", \"I will\", text )\n",
        "    text = re.sub(r\"doesn't\", \"does not\", text )\n",
        "    text = re.sub(r\"i'd\", \"I would\", text )\n",
        "    text = re.sub(r\"didn't\", \"did not\", text )\n",
        "    text = re.sub(r\"ain't\", \"am not\", text )\n",
        "    text = re.sub(r\"you'll\", \"you will\", text )\n",
        "    text = re.sub(r\"I've\", \"I have\", text )\n",
        "    text = re.sub(r\"Don't\", \"do not\", text )\n",
        "    text = re.sub(r\"I'll\", \"I will\", text )\n",
        "    text = re.sub(r\"I'd\", \"I would\", text )\n",
        "    text = re.sub(r\"Let's\", \"Let us\", text )\n",
        "    text = re.sub(r\"you'd\", \"You would\", text )\n",
        "    text = re.sub(r\"It's\", \"It is\", text )\n",
        "    text = re.sub(r\"Ain't\", \"am not\", text )\n",
        "    text = re.sub(r\"Haven't\", \"Have not\", text )\n",
        "    text = re.sub(r\"Could've\", \"Could have\", text )\n",
        "    text = re.sub(r\"youve\", \"you have\", text )  \n",
        "    text = re.sub(r\"donå«t\", \"do not\", text )  \n",
        "    \n",
        "    text = re.sub(r\"some1\", \"someone\", text )\n",
        "    text = re.sub(r\"yrs\", \"years\", text )\n",
        "    text = re.sub(r\"hrs\", \"hours\", text )\n",
        "    text = re.sub(r\"2morow|2moro\", \"tomorrow\", text )\n",
        "    text = re.sub(r\"2day\", \"today\", text )\n",
        "    text = re.sub(r\"4got|4gotten\", \"forget\", text )\n",
        "    text = re.sub(r\"b-day|bday\", \"b-day\", text )\n",
        "    text = re.sub(r\"mother's\", \"mother\", text )\n",
        "    text = re.sub(r\"mom's\", \"mom\", text )\n",
        "    text = re.sub(r\"dad's\", \"dad\", text )\n",
        "    text = re.sub(r\"hahah|hahaha|hahahaha\", \"haha\", text )\n",
        "    text = re.sub(r\"lmao|lolz|rofl\", \"lol\", text )\n",
        "    text = re.sub(r\"thanx|thnx\", \"thanks\", text )\n",
        "    text = re.sub(r\"goood\", \"good\", text )\n",
        "    text = re.sub(r\"some1\", \"someone\", text )\n",
        "    text = re.sub(r\"some1\", \"someone\", text )\n",
        "    text = text.lower()\n",
        "    text = text[1:]\n",
        "    # Removing all URls \n",
        "    text = re.sub(urlPattern,'',text)\n",
        "    # Removing all @username.\n",
        "    text = re.sub(userPattern,'', text ) \n",
        "    #remove some words\n",
        "    text = re.sub(some,'',text)\n",
        "    #Remove punctuations\n",
        "    text = text.translate(str.maketrans(\"\",\"\",string.punctuation))\n",
        "    #tokenizing words\n",
        "    tokens = word_tokenize(text)\n",
        "    #tokens = [w for w in tokens if len(w)>2]\n",
        "    #Removing Stop Words\n",
        "    final_tokens = [w for w in tokens if w not in stopword]\n",
        "    #reducing a word to its word stem \n",
        "    wordLemm = WordNetLemmatizer()\n",
        "    finalwords=[]\n",
        "    for w in final_tokens:\n",
        "      if len(w)>1:\n",
        "        word = wordLemm.lemmatize(w)\n",
        "        finalwords.append(word)\n",
        "    return ' '.join(finalwords)"
      ],
      "execution_count": 208,
      "outputs": []
    },
    {
      "cell_type": "code",
      "metadata": {
        "id": "W4hXSkx5cF8d"
      },
      "source": [
        "abbreviations = {\n",
        "    \"$\" : \" dollar \",\n",
        "    \"€\" : \" euro \",\n",
        "    \"4ao\" : \"for adults only\",\n",
        "    \"a.m\" : \"before midday\",\n",
        "    \"a3\" : \"anytime anywhere anyplace\",\n",
        "    \"aamof\" : \"as a matter of fact\",\n",
        "    \"acct\" : \"account\",\n",
        "    \"adih\" : \"another day in hell\",\n",
        "    \"afaic\" : \"as far as i am concerned\",\n",
        "    \"afaict\" : \"as far as i can tell\",\n",
        "    \"afaik\" : \"as far as i know\",\n",
        "    \"afair\" : \"as far as i remember\",\n",
        "    \"afk\" : \"away from keyboard\",\n",
        "    \"app\" : \"application\",\n",
        "    \"approx\" : \"approximately\",\n",
        "    \"apps\" : \"applications\",\n",
        "    \"asap\" : \"as soon as possible\",\n",
        "    \"asl\" : \"age, sex, location\",\n",
        "    \"atk\" : \"at the keyboard\",\n",
        "    \"ave.\" : \"avenue\",\n",
        "    \"aymm\" : \"are you my mother\",\n",
        "    \"ayor\" : \"at your own risk\", \n",
        "    \"b&b\" : \"bed and breakfast\",\n",
        "    \"b+b\" : \"bed and breakfast\",\n",
        "    \"b.c\" : \"before christ\",\n",
        "    \"b2b\" : \"business to business\",\n",
        "    \"b2c\" : \"business to customer\",\n",
        "    \"b4\" : \"before\",\n",
        "    \"b4n\" : \"bye for now\",\n",
        "    \"b@u\" : \"back at you\",\n",
        "    \"bae\" : \"before anyone else\",\n",
        "    \"bak\" : \"back at keyboard\",\n",
        "    \"bbbg\" : \"bye bye be good\",\n",
        "    \"bbc\" : \"british broadcasting corporation\",\n",
        "    \"bbias\" : \"be back in a second\",\n",
        "    \"bbl\" : \"be back later\",\n",
        "    \"bbs\" : \"be back soon\",\n",
        "    \"be4\" : \"before\",\n",
        "    \"bfn\" : \"bye for now\",\n",
        "    \"blvd\" : \"boulevard\",\n",
        "    \"bout\" : \"about\",\n",
        "    \"brb\" : \"be right back\",\n",
        "    \"bros\" : \"brothers\",\n",
        "    \"brt\" : \"be right there\",\n",
        "    \"bsaaw\" : \"big smile and a wink\",\n",
        "    \"btw\" : \"by the way\",\n",
        "    \"bwl\" : \"bursting with laughter\",\n",
        "    \"c/o\" : \"care of\",\n",
        "    \"cet\" : \"central european time\",\n",
        "    \"cf\" : \"compare\",\n",
        "    \"cia\" : \"central intelligence agency\",\n",
        "    \"csl\" : \"can not stop laughing\",\n",
        "    \"cu\" : \"see you\",\n",
        "    \"cul8r\" : \"see you later\",\n",
        "    \"cv\" : \"curriculum vitae\",\n",
        "    \"cwot\" : \"complete waste of time\",\n",
        "    \"cya\" : \"see you\",\n",
        "    \"cyt\" : \"see you tomorrow\",\n",
        "    \"dae\" : \"does anyone else\",\n",
        "    \"dbmib\" : \"do not bother me i am busy\",\n",
        "    \"diy\" : \"do it yourself\",\n",
        "    \"dm\" : \"direct message\",\n",
        "    \"dwh\" : \"during work hours\",\n",
        "    \"e123\" : \"easy as one two three\",\n",
        "    \"eet\" : \"eastern european time\",\n",
        "    \"eg\" : \"example\",\n",
        "    \"embm\" : \"early morning business meeting\",\n",
        "    \"encl\" : \"enclosed\",\n",
        "    \"encl.\" : \"enclosed\",\n",
        "    \"etc\" : \"and so on\",\n",
        "    \"faq\" : \"frequently asked questions\",\n",
        "    \"fawc\" : \"for anyone who cares\",\n",
        "    \"fb\" : \"facebook\",\n",
        "    \"fc\" : \"fingers crossed\",\n",
        "    \"fig\" : \"figure\",\n",
        "    \"fimh\" : \"forever in my heart\", \n",
        "    \"ft.\" : \"feet\",\n",
        "    \"ft\" : \"featuring\",\n",
        "    \"ftl\" : \"for the loss\",\n",
        "    \"ftw\" : \"for the win\",\n",
        "    \"fwiw\" : \"for what it is worth\",\n",
        "    \"fyi\" : \"for your information\",\n",
        "    \"g9\" : \"genius\",\n",
        "    \"gahoy\" : \"get a hold of yourself\",\n",
        "    \"gal\" : \"get a life\",\n",
        "    \"gcse\" : \"general certificate of secondary education\",\n",
        "    \"gfn\" : \"gone for now\",\n",
        "    \"gg\" : \"good game\",\n",
        "    \"gl\" : \"good luck\",\n",
        "    \"glhf\" : \"good luck have fun\",\n",
        "    \"gmt\" : \"greenwich mean time\",\n",
        "    \"gmta\" : \"great minds think alike\",\n",
        "    \"gn\" : \"good night\",\n",
        "    \"g.o.a.t\" : \"greatest of all time\",\n",
        "    \"goat\" : \"greatest of all time\",\n",
        "    \"goi\" : \"get over it\",\n",
        "    \"gps\" : \"global positioning system\",\n",
        "    \"gr8\" : \"great\",\n",
        "    \"gratz\" : \"congratulations\",\n",
        "    \"gyal\" : \"girl\",\n",
        "    \"h&c\" : \"hot and cold\",\n",
        "    \"hp\" : \"horsepower\",\n",
        "    \"hr\" : \"hour\",\n",
        "    \"hrh\" : \"his royal highness\",\n",
        "    \"ht\" : \"height\",\n",
        "    \"ibrb\" : \"i will be right back\",\n",
        "    \"ic\" : \"i see\",\n",
        "    \"icq\" : \"i seek you\",\n",
        "    \"icymi\" : \"in case you missed it\",\n",
        "    \"idc\" : \"i do not care\",\n",
        "    \"idgadf\" : \"i do not give a damn fuck\",\n",
        "    \"idgaf\" : \"i do not give a fuck\",\n",
        "    \"idk\" : \"i do not know\",\n",
        "    \"ie\" : \"that is\",\n",
        "    \"i.e\" : \"that is\",\n",
        "    \"ifyp\" : \"i feel your pain\",\n",
        "    \"IG\" : \"instagram\",\n",
        "    \"iirc\" : \"if i remember correctly\",\n",
        "    \"ilu\" : \"i love you\",\n",
        "    \"ily\" : \"i love you\",\n",
        "    \"imho\" : \"in my humble opinion\",\n",
        "    \"imo\" : \"in my opinion\",\n",
        "    \"imu\" : \"i miss you\",\n",
        "    \"iow\" : \"in other words\",\n",
        "    \"irl\" : \"in real life\",\n",
        "    \"j4f\" : \"just for fun\",\n",
        "    \"jic\" : \"just in case\",\n",
        "    \"jk\" : \"just kidding\",\n",
        "    \"jsyk\" : \"just so you know\",\n",
        "    \"l8r\" : \"later\",\n",
        "    \"lb\" : \"pound\",\n",
        "    \"lbs\" : \"pounds\",\n",
        "    \"ldr\" : \"long distance relationship\",\n",
        "    \"lmao\" : \"laugh my ass off\",\n",
        "    \"lmfao\" : \"laugh my fucking ass off\",\n",
        "    \"lol\" : \"laughing out loud\",\n",
        "    \"ltd\" : \"limited\",\n",
        "    \"ltns\" : \"long time no see\",\n",
        "    \"m8\" : \"mate\",\n",
        "    \"mf\" : \"motherfucker\",\n",
        "    \"mfs\" : \"motherfuckers\",\n",
        "    \"mfw\" : \"my face when\",\n",
        "    \"mofo\" : \"motherfucker\",\n",
        "    \"mph\" : \"miles per hour\",\n",
        "    \"mr\" : \"mister\",\n",
        "    \"mrw\" : \"my reaction when\",\n",
        "    \"ms\" : \"miss\",\n",
        "    \"mte\" : \"my thoughts exactly\",\n",
        "    \"nagi\" : \"not a good idea\",\n",
        "    \"nbc\" : \"national broadcasting company\",\n",
        "    \"nbd\" : \"not big deal\",\n",
        "    \"nfs\" : \"not for sale\",\n",
        "    \"ngl\" : \"not going to lie\",\n",
        "    \"nhs\" : \"national health service\",\n",
        "    \"nrn\" : \"no reply necessary\",\n",
        "    \"nsfl\" : \"not safe for life\",\n",
        "    \"nsfw\" : \"not safe for work\",\n",
        "    \"nth\" : \"nice to have\",\n",
        "    \"nvr\" : \"never\",\n",
        "    \"nyc\" : \"new york city\",\n",
        "    \"oc\" : \"original content\",\n",
        "    \"og\" : \"original\",\n",
        "    \"ohp\" : \"overhead projector\",\n",
        "    \"oic\" : \"oh i see\",\n",
        "    \"omdb\" : \"over my dead body\",\n",
        "    \"omg\" : \"oh my god\",\n",
        "    \"omw\" : \"on my way\",\n",
        "    \"p.a\" : \"per annum\",\n",
        "    \"p.m\" : \"after midday\",\n",
        "    \"pm\" : \"prime minister\",\n",
        "    \"poc\" : \"people of color\",\n",
        "    \"pov\" : \"point of view\",\n",
        "    \"pp\" : \"pages\",\n",
        "    \"ppl\" : \"people\",\n",
        "    \"prw\" : \"parents are watching\",\n",
        "    \"ps\" : \"postscript\",\n",
        "    \"pt\" : \"point\",\n",
        "    \"ptb\" : \"please text back\",\n",
        "    \"pto\" : \"please turn over\",\n",
        "    \"qpsa\" : \"what happens\", \n",
        "    \"ratchet\" : \"rude\",\n",
        "    \"rbtl\" : \"read between the lines\",\n",
        "    \"rlrt\" : \"real life retweet\", \n",
        "    \"rofl\" : \"rolling on the floor laughing\",\n",
        "    \"roflol\" : \"rolling on the floor laughing out loud\",\n",
        "    \"rotflmao\" : \"rolling on the floor laughing my ass off\",\n",
        "    \"rt\" : \"retweet\",\n",
        "    \"ruok\" : \"are you ok\",\n",
        "    \"sfw\" : \"safe for work\",\n",
        "     \"sk8\" : \"skate\",\n",
        "    \"smh\" : \"shake my head\",\n",
        "    \"sq\" : \"square\",\n",
        "    \"srsly\" : \"seriously\", \n",
        "    \"ssdd\" : \"same stuff different day\",\n",
        "    \"tbh\" : \"to be honest\",\n",
        "    \"tbs\" : \"tablespooful\",\n",
        "    \"tbsp\" : \"tablespooful\",\n",
        "    \"tfw\" : \"that feeling when\",\n",
        "    \"thks\" : \"thank you\",\n",
        "    \"tho\" : \"though\",\n",
        "    \"thx\" : \"thank you\",\n",
        "    \"tia\" : \"thanks in advance\",\n",
        "    \"til\" : \"today i learned\",\n",
        "    \"tl;dr\" : \"too long i did not read\",\n",
        "    \"tldr\" : \"too long i did not read\",\n",
        "    \"tmb\" : \"tweet me back\",\n",
        "    \"tntl\" : \"trying not to laugh\",\n",
        "    \"ttyl\" : \"talk to you later\",\n",
        "    \"u\" : \"you\",\n",
        "    \"u2\" : \"you too\",\n",
        "    \"u4e\" : \"yours for ever\",\n",
        "    \"utc\" : \"coordinated universal time\",\n",
        "    \"w/\" : \"with\",\n",
        "    \"w/o\" : \"without\",\n",
        "    \"w8\" : \"wait\",\n",
        "    \"wassup\" : \"what is up\",\n",
        "    \"wb\" : \"welcome back\",\n",
        "    \"wtf\" : \"what the fuck\",\n",
        "    \"wtg\" : \"way to go\",\n",
        "    \"wtpa\" : \"where the party at\",\n",
        "    \"wuf\" : \"where are you from\",\n",
        "    \"wuzup\" : \"what is up\",\n",
        "    \"wywh\" : \"wish you were here\",\n",
        "    \"yd\" : \"yard\",\n",
        "    \"ygtr\" : \"you got that right\",\n",
        "    \"ynk\" : \"you never know\",\n",
        "    \"zzz\" : \"sleeping bored and tired\"\n",
        "}"
      ],
      "execution_count": 209,
      "outputs": []
    },
    {
      "cell_type": "code",
      "metadata": {
        "id": "USz9-VMscIwz"
      },
      "source": [
        "def convert_abbrev_in_text(text):\n",
        "    t = []\n",
        "    words = text.split()\n",
        "    t = [abbreviations[w.lower()] if w.lower() in abbreviations.keys() else w for w in words]\n",
        "    return ' '.join(t)  "
      ],
      "execution_count": 210,
      "outputs": []
    },
    {
      "cell_type": "code",
      "metadata": {
        "colab": {
          "base_uri": "https://localhost:8080/"
        },
        "id": "CcCkL0nvnkD_",
        "outputId": "d57780ff-9d82-40e4-b275-05e529293a9e"
      },
      "source": [
        "nltk.download('punkt')\n",
        "nltk.download('wordnet')"
      ],
      "execution_count": 211,
      "outputs": [
        {
          "output_type": "stream",
          "name": "stdout",
          "text": [
            "[nltk_data] Downloading package punkt to /root/nltk_data...\n",
            "[nltk_data]   Package punkt is already up-to-date!\n",
            "[nltk_data] Downloading package wordnet to /root/nltk_data...\n",
            "[nltk_data]   Package wordnet is already up-to-date!\n"
          ]
        },
        {
          "output_type": "execute_result",
          "data": {
            "text/plain": [
              "True"
            ]
          },
          "metadata": {},
          "execution_count": 211
        }
      ]
    },
    {
      "cell_type": "code",
      "metadata": {
        "colab": {
          "base_uri": "https://localhost:8080/",
          "height": 224
        },
        "id": "raI5POorcKis",
        "outputId": "da97fa3f-81c5-4e6f-ec47-b31541f801bc"
      },
      "source": [
        "# Airline tweets\n",
        "airline_tweets['processed_text'] = airline_tweets['text'].apply(lambda x: process_text(x))\n",
        "airline_tweets['processed_text'] = airline_tweets['processed_text'].apply(lambda x: convert_abbrev_in_text(x))\n",
        "print('Text Preprocessing complete.')\n",
        "airline_tweets.head(5)"
      ],
      "execution_count": 216,
      "outputs": [
        {
          "output_type": "stream",
          "name": "stdout",
          "text": [
            "Text Preprocessing complete.\n"
          ]
        },
        {
          "output_type": "execute_result",
          "data": {
            "text/html": [
              "<div>\n",
              "<style scoped>\n",
              "    .dataframe tbody tr th:only-of-type {\n",
              "        vertical-align: middle;\n",
              "    }\n",
              "\n",
              "    .dataframe tbody tr th {\n",
              "        vertical-align: top;\n",
              "    }\n",
              "\n",
              "    .dataframe thead th {\n",
              "        text-align: right;\n",
              "    }\n",
              "</style>\n",
              "<table border=\"1\" class=\"dataframe\">\n",
              "  <thead>\n",
              "    <tr style=\"text-align: right;\">\n",
              "      <th></th>\n",
              "      <th>airline_sentiment</th>\n",
              "      <th>text</th>\n",
              "      <th>processed_text</th>\n",
              "    </tr>\n",
              "  </thead>\n",
              "  <tbody>\n",
              "    <tr>\n",
              "      <th>1</th>\n",
              "      <td>positive</td>\n",
              "      <td>@VirginAmerica plus you've added commercials t...</td>\n",
              "      <td>virginamerica plus added commercial experience...</td>\n",
              "    </tr>\n",
              "    <tr>\n",
              "      <th>3</th>\n",
              "      <td>negative</td>\n",
              "      <td>@VirginAmerica it's really aggressive to blast...</td>\n",
              "      <td>virginamerica really aggressive blast obnoxiou...</td>\n",
              "    </tr>\n",
              "    <tr>\n",
              "      <th>4</th>\n",
              "      <td>negative</td>\n",
              "      <td>@VirginAmerica and it's a really big bad thing...</td>\n",
              "      <td>virginamerica really big bad thing</td>\n",
              "    </tr>\n",
              "    <tr>\n",
              "      <th>5</th>\n",
              "      <td>negative</td>\n",
              "      <td>@VirginAmerica seriously would pay $30 a fligh...</td>\n",
              "      <td>virginamerica seriously would pay 30 flight se...</td>\n",
              "    </tr>\n",
              "    <tr>\n",
              "      <th>6</th>\n",
              "      <td>positive</td>\n",
              "      <td>@VirginAmerica yes, nearly every time I fly VX...</td>\n",
              "      <td>virginamerica yes nearly every time fly vx ear...</td>\n",
              "    </tr>\n",
              "  </tbody>\n",
              "</table>\n",
              "</div>"
            ],
            "text/plain": [
              "  airline_sentiment  ...                                     processed_text\n",
              "1          positive  ...  virginamerica plus added commercial experience...\n",
              "3          negative  ...  virginamerica really aggressive blast obnoxiou...\n",
              "4          negative  ...                 virginamerica really big bad thing\n",
              "5          negative  ...  virginamerica seriously would pay 30 flight se...\n",
              "6          positive  ...  virginamerica yes nearly every time fly vx ear...\n",
              "\n",
              "[5 rows x 3 columns]"
            ]
          },
          "metadata": {},
          "execution_count": 216
        }
      ]
    },
    {
      "cell_type": "code",
      "metadata": {
        "colab": {
          "base_uri": "https://localhost:8080/",
          "height": 206
        },
        "id": "qwsfCapu_bQ0",
        "outputId": "78e4808c-90f0-48e8-c508-bf87890fd74a"
      },
      "source": [
        "#removing shortwords\n",
        "airline_tweets['processed_text'] = airline_tweets['processed_text'].apply(lambda x: \" \".join([w for w in x.split() if len(w)>3]))\n",
        "airline_tweets.head(5)"
      ],
      "execution_count": 217,
      "outputs": [
        {
          "output_type": "execute_result",
          "data": {
            "text/html": [
              "<div>\n",
              "<style scoped>\n",
              "    .dataframe tbody tr th:only-of-type {\n",
              "        vertical-align: middle;\n",
              "    }\n",
              "\n",
              "    .dataframe tbody tr th {\n",
              "        vertical-align: top;\n",
              "    }\n",
              "\n",
              "    .dataframe thead th {\n",
              "        text-align: right;\n",
              "    }\n",
              "</style>\n",
              "<table border=\"1\" class=\"dataframe\">\n",
              "  <thead>\n",
              "    <tr style=\"text-align: right;\">\n",
              "      <th></th>\n",
              "      <th>airline_sentiment</th>\n",
              "      <th>text</th>\n",
              "      <th>processed_text</th>\n",
              "    </tr>\n",
              "  </thead>\n",
              "  <tbody>\n",
              "    <tr>\n",
              "      <th>1</th>\n",
              "      <td>positive</td>\n",
              "      <td>@VirginAmerica plus you've added commercials t...</td>\n",
              "      <td>virginamerica plus added commercial experience...</td>\n",
              "    </tr>\n",
              "    <tr>\n",
              "      <th>3</th>\n",
              "      <td>negative</td>\n",
              "      <td>@VirginAmerica it's really aggressive to blast...</td>\n",
              "      <td>virginamerica really aggressive blast obnoxiou...</td>\n",
              "    </tr>\n",
              "    <tr>\n",
              "      <th>4</th>\n",
              "      <td>negative</td>\n",
              "      <td>@VirginAmerica and it's a really big bad thing...</td>\n",
              "      <td>virginamerica really thing</td>\n",
              "    </tr>\n",
              "    <tr>\n",
              "      <th>5</th>\n",
              "      <td>negative</td>\n",
              "      <td>@VirginAmerica seriously would pay $30 a fligh...</td>\n",
              "      <td>virginamerica seriously would flight seat play...</td>\n",
              "    </tr>\n",
              "    <tr>\n",
              "      <th>6</th>\n",
              "      <td>positive</td>\n",
              "      <td>@VirginAmerica yes, nearly every time I fly VX...</td>\n",
              "      <td>virginamerica nearly every time worm away</td>\n",
              "    </tr>\n",
              "  </tbody>\n",
              "</table>\n",
              "</div>"
            ],
            "text/plain": [
              "  airline_sentiment  ...                                     processed_text\n",
              "1          positive  ...  virginamerica plus added commercial experience...\n",
              "3          negative  ...  virginamerica really aggressive blast obnoxiou...\n",
              "4          negative  ...                         virginamerica really thing\n",
              "5          negative  ...  virginamerica seriously would flight seat play...\n",
              "6          positive  ...          virginamerica nearly every time worm away\n",
              "\n",
              "[5 rows x 3 columns]"
            ]
          },
          "metadata": {},
          "execution_count": 217
        }
      ]
    },
    {
      "cell_type": "code",
      "metadata": {
        "colab": {
          "base_uri": "https://localhost:8080/",
          "height": 224
        },
        "id": "WF1YbpNJoRNB",
        "outputId": "25b3f3ea-982b-4c3f-8d82-63639f3ae8ad"
      },
      "source": [
        "# Movie reviews\n",
        "movie_reviews['processed_review'] = movie_reviews['review'].apply(lambda x: process_text(x))\n",
        "movie_reviews['processed_review'] = movie_reviews['processed_review'].apply(lambda x: convert_abbrev_in_text(x))\n",
        "print('Text Preprocessing complete.')\n",
        "airline_tweets.head(5)"
      ],
      "execution_count": 218,
      "outputs": [
        {
          "output_type": "stream",
          "name": "stdout",
          "text": [
            "Text Preprocessing complete.\n"
          ]
        },
        {
          "output_type": "execute_result",
          "data": {
            "text/html": [
              "<div>\n",
              "<style scoped>\n",
              "    .dataframe tbody tr th:only-of-type {\n",
              "        vertical-align: middle;\n",
              "    }\n",
              "\n",
              "    .dataframe tbody tr th {\n",
              "        vertical-align: top;\n",
              "    }\n",
              "\n",
              "    .dataframe thead th {\n",
              "        text-align: right;\n",
              "    }\n",
              "</style>\n",
              "<table border=\"1\" class=\"dataframe\">\n",
              "  <thead>\n",
              "    <tr style=\"text-align: right;\">\n",
              "      <th></th>\n",
              "      <th>airline_sentiment</th>\n",
              "      <th>text</th>\n",
              "      <th>processed_text</th>\n",
              "    </tr>\n",
              "  </thead>\n",
              "  <tbody>\n",
              "    <tr>\n",
              "      <th>1</th>\n",
              "      <td>positive</td>\n",
              "      <td>@VirginAmerica plus you've added commercials t...</td>\n",
              "      <td>virginamerica plus added commercial experience...</td>\n",
              "    </tr>\n",
              "    <tr>\n",
              "      <th>3</th>\n",
              "      <td>negative</td>\n",
              "      <td>@VirginAmerica it's really aggressive to blast...</td>\n",
              "      <td>virginamerica really aggressive blast obnoxiou...</td>\n",
              "    </tr>\n",
              "    <tr>\n",
              "      <th>4</th>\n",
              "      <td>negative</td>\n",
              "      <td>@VirginAmerica and it's a really big bad thing...</td>\n",
              "      <td>virginamerica really thing</td>\n",
              "    </tr>\n",
              "    <tr>\n",
              "      <th>5</th>\n",
              "      <td>negative</td>\n",
              "      <td>@VirginAmerica seriously would pay $30 a fligh...</td>\n",
              "      <td>virginamerica seriously would flight seat play...</td>\n",
              "    </tr>\n",
              "    <tr>\n",
              "      <th>6</th>\n",
              "      <td>positive</td>\n",
              "      <td>@VirginAmerica yes, nearly every time I fly VX...</td>\n",
              "      <td>virginamerica nearly every time worm away</td>\n",
              "    </tr>\n",
              "  </tbody>\n",
              "</table>\n",
              "</div>"
            ],
            "text/plain": [
              "  airline_sentiment  ...                                     processed_text\n",
              "1          positive  ...  virginamerica plus added commercial experience...\n",
              "3          negative  ...  virginamerica really aggressive blast obnoxiou...\n",
              "4          negative  ...                         virginamerica really thing\n",
              "5          negative  ...  virginamerica seriously would flight seat play...\n",
              "6          positive  ...          virginamerica nearly every time worm away\n",
              "\n",
              "[5 rows x 3 columns]"
            ]
          },
          "metadata": {},
          "execution_count": 218
        }
      ]
    },
    {
      "cell_type": "code",
      "metadata": {
        "colab": {
          "base_uri": "https://localhost:8080/",
          "height": 206
        },
        "id": "waSiYwwRpLVY",
        "outputId": "4a98a49e-7602-4338-f41b-fc097b4e4e9c"
      },
      "source": [
        "#removing shortwords\n",
        "movie_reviews['processed_review'] = movie_reviews['processed_review'].apply(lambda x: \" \".join([w for w in x.split() if len(w)>3]))\n",
        "movie_reviews.head(5)"
      ],
      "execution_count": 219,
      "outputs": [
        {
          "output_type": "execute_result",
          "data": {
            "text/html": [
              "<div>\n",
              "<style scoped>\n",
              "    .dataframe tbody tr th:only-of-type {\n",
              "        vertical-align: middle;\n",
              "    }\n",
              "\n",
              "    .dataframe tbody tr th {\n",
              "        vertical-align: top;\n",
              "    }\n",
              "\n",
              "    .dataframe thead th {\n",
              "        text-align: right;\n",
              "    }\n",
              "</style>\n",
              "<table border=\"1\" class=\"dataframe\">\n",
              "  <thead>\n",
              "    <tr style=\"text-align: right;\">\n",
              "      <th></th>\n",
              "      <th>review</th>\n",
              "      <th>sentiment</th>\n",
              "      <th>processed_review</th>\n",
              "    </tr>\n",
              "  </thead>\n",
              "  <tbody>\n",
              "    <tr>\n",
              "      <th>0</th>\n",
              "      <td>One of the other reviewers has mentioned that ...</td>\n",
              "      <td>positive</td>\n",
              "      <td>reviewer mentioned watching episode hooked rig...</td>\n",
              "    </tr>\n",
              "    <tr>\n",
              "      <th>1</th>\n",
              "      <td>A wonderful little production. &lt;br /&gt;&lt;br /&gt;The...</td>\n",
              "      <td>positive</td>\n",
              "      <td>wonderful little production filming technique ...</td>\n",
              "    </tr>\n",
              "    <tr>\n",
              "      <th>2</th>\n",
              "      <td>I thought this was a wonderful way to spend ti...</td>\n",
              "      <td>positive</td>\n",
              "      <td>thought wonderful spend time summer weekend si...</td>\n",
              "    </tr>\n",
              "    <tr>\n",
              "      <th>3</th>\n",
              "      <td>Basically there's a family where a little boy ...</td>\n",
              "      <td>negative</td>\n",
              "      <td>asically family little jake think zombie close...</td>\n",
              "    </tr>\n",
              "    <tr>\n",
              "      <th>4</th>\n",
              "      <td>Petter Mattei's \"Love in the Time of Money\" is...</td>\n",
              "      <td>positive</td>\n",
              "      <td>etter matteis love time money visually stunnin...</td>\n",
              "    </tr>\n",
              "  </tbody>\n",
              "</table>\n",
              "</div>"
            ],
            "text/plain": [
              "                                              review  ...                                   processed_review\n",
              "0  One of the other reviewers has mentioned that ...  ...  reviewer mentioned watching episode hooked rig...\n",
              "1  A wonderful little production. <br /><br />The...  ...  wonderful little production filming technique ...\n",
              "2  I thought this was a wonderful way to spend ti...  ...  thought wonderful spend time summer weekend si...\n",
              "3  Basically there's a family where a little boy ...  ...  asically family little jake think zombie close...\n",
              "4  Petter Mattei's \"Love in the Time of Money\" is...  ...  etter matteis love time money visually stunnin...\n",
              "\n",
              "[5 rows x 3 columns]"
            ]
          },
          "metadata": {},
          "execution_count": 219
        }
      ]
    },
    {
      "cell_type": "code",
      "metadata": {
        "id": "8xFoWMxufIP7"
      },
      "source": [
        "from sklearn.utils import shuffle\n",
        "airline_tweets = shuffle(airline_tweets).reset_index(drop=True)\n",
        "movie_reviews = shuffle(movie_reviews).reset_index(drop=True)"
      ],
      "execution_count": 220,
      "outputs": []
    },
    {
      "cell_type": "markdown",
      "metadata": {
        "id": "xOede4gEfN_-"
      },
      "source": [
        "### Tokenization"
      ]
    },
    {
      "cell_type": "code",
      "metadata": {
        "id": "Y63uhVgYfOrm"
      },
      "source": [
        "tokenized_tweet_negative = (airline_tweets[airline_tweets.airline_sentiment == 'negative' ])['processed_text'].apply(lambda x: x.split())\n",
        "tokenized_tweet_positive = (airline_tweets[airline_tweets.airline_sentiment == 'positive' ])['processed_text'].apply(lambda x: x.split())\n",
        "\n",
        "tokenized_review_negative = (movie_reviews[movie_reviews.sentiment == 'negative' ])['processed_review'].apply(lambda x: x.split())\n",
        "tokenized_review_positive = (movie_reviews[movie_reviews.sentiment == 'positive' ])['processed_review'].apply(lambda x: x.split())"
      ],
      "execution_count": 221,
      "outputs": []
    },
    {
      "cell_type": "code",
      "metadata": {
        "id": "w-AXv-a6K-bw"
      },
      "source": [
        "from nltk import FreqDist, classify, NaiveBayesClassifier\n",
        "import re, string, random\n",
        "def get_all_words(cleaned_tokens_list):\n",
        "    for tokens in cleaned_tokens_list:\n",
        "        for token in tokens:\n",
        "            yield token\n",
        "\n",
        "def get_texts_for_model(cleaned_tokens_list):\n",
        "    for tweet_tokens in cleaned_tokens_list:\n",
        "        yield dict([token, True] for token in tweet_tokens)\n",
        "\n",
        "def get_dataset_for_model(tokenized_tweet_positive, tokenized_tweet_negative):\n",
        "  positive_tokens_for_model = get_texts_for_model(tokenized_tweet_positive)\n",
        "  negative_tokens_for_model = get_texts_for_model(tokenized_tweet_negative)\n",
        "\n",
        "  positive_dataset = [(tweet_dict, \"Positive\")\n",
        "                          for tweet_dict in positive_tokens_for_model]\n",
        "\n",
        "  negative_dataset = [(tweet_dict, \"Negative\")\n",
        "                      for tweet_dict in negative_tokens_for_model]\n",
        "\n",
        "  dataset = positive_dataset + negative_dataset\n",
        "  random.shuffle(dataset)\n",
        "  return dataset\n"
      ],
      "execution_count": 222,
      "outputs": []
    },
    {
      "cell_type": "code",
      "metadata": {
        "colab": {
          "base_uri": "https://localhost:8080/"
        },
        "id": "nl9pb8b4K1Yx",
        "outputId": "0da35a22-14e6-49b4-d73a-7170a05a2147"
      },
      "source": [
        "# Palabras más frecuentes en los tweets positivos\n",
        "all_pos_words = get_all_words(tokenized_tweet_positive)\n",
        "freq_dist_pos = FreqDist(all_pos_words)\n",
        "print(freq_dist_pos.most_common(10))"
      ],
      "execution_count": 223,
      "outputs": [
        {
          "output_type": "stream",
          "name": "stdout",
          "text": [
            "[('thanks', 611), ('southwestair', 557), ('jetblue', 539), ('united', 502), ('thank', 492), ('flight', 432), ('americanair', 323), ('usairways', 265), ('great', 234), ('service', 161)]\n"
          ]
        }
      ]
    },
    {
      "cell_type": "code",
      "metadata": {
        "colab": {
          "base_uri": "https://localhost:8080/"
        },
        "id": "StzOiUevgG9U",
        "outputId": "20e577ae-56f0-4c9e-f188-c57552162643"
      },
      "source": [
        "# Palabras más frecuentes en los tweets negativos\n",
        "all_pos_words = get_all_words(tokenized_tweet_negative)\n",
        "freq_dist_pos = FreqDist(all_pos_words)\n",
        "print(freq_dist_pos.most_common(10))"
      ],
      "execution_count": 224,
      "outputs": [
        {
          "output_type": "stream",
          "name": "stdout",
          "text": [
            "[('flight', 3319), ('united', 2762), ('usairways', 2268), ('americanair', 1917), ('hour', 1362), ('southwestair', 1173), ('jetblue', 977), ('cancelled', 920), ('customer', 773), ('service', 761)]\n"
          ]
        }
      ]
    },
    {
      "cell_type": "code",
      "metadata": {
        "colab": {
          "base_uri": "https://localhost:8080/"
        },
        "id": "rBZrN5abgMKX",
        "outputId": "34336b08-0fe1-4cac-a112-88797aaab1ef"
      },
      "source": [
        "# Palabras más frecuentes en los reviews positivos\n",
        "all_pos_words = get_all_words(tokenized_review_positive)\n",
        "freq_dist_pos = FreqDist(all_pos_words)\n",
        "print(freq_dist_pos.most_common(10))"
      ],
      "execution_count": 225,
      "outputs": [
        {
          "output_type": "stream",
          "name": "stdout",
          "text": [
            "[('film', 47856), ('movie', 43105), ('like', 17561), ('time', 15219), ('good', 14426), ('story', 13652), ('character', 13637), ('great', 12725), ('would', 12710), ('well', 10999)]\n"
          ]
        }
      ]
    },
    {
      "cell_type": "code",
      "metadata": {
        "colab": {
          "base_uri": "https://localhost:8080/"
        },
        "id": "FyzU6KLkgNH3",
        "outputId": "8ba882ca-bbfd-44b4-ac65-7f3a5a59bfda"
      },
      "source": [
        "# Palabras más frecuentes en los reviews negativos\n",
        "all_pos_words = get_all_words(tokenized_review_negative)\n",
        "freq_dist_pos = FreqDist(all_pos_words)\n",
        "print(freq_dist_pos.most_common(10))"
      ],
      "execution_count": 226,
      "outputs": [
        {
          "output_type": "stream",
          "name": "stdout",
          "text": [
            "[('movie', 55836), ('film', 41867), ('like', 22260), ('would', 17275), ('even', 15040), ('time', 14224), ('good', 14206), ('character', 13961), ('make', 12586), ('really', 12227)]\n"
          ]
        }
      ]
    },
    {
      "cell_type": "code",
      "metadata": {
        "colab": {
          "base_uri": "https://localhost:8080/"
        },
        "id": "u3yIXuhLcGT2",
        "outputId": "5dfa50f0-3a6d-41df-f728-9288cd5d0487"
      },
      "source": [
        "train_tweets = get_dataset_for_model(tokenized_tweet_positive, tokenized_tweet_negative)\n",
        "test_reviews = get_dataset_for_model(tokenized_review_positive, tokenized_review_negative)\n",
        "\n",
        "classifier = NaiveBayesClassifier.train(train_tweets)\n",
        "\n",
        "tweets_accuracy = classify.accuracy(classifier, train_tweets)\n",
        "reviews_accuracy = classify.accuracy(classifier, test_reviews)\n",
        "print(classifier.show_most_informative_features(10))"
      ],
      "execution_count": 232,
      "outputs": [
        {
          "output_type": "stream",
          "name": "stdout",
          "text": [
            "Most Informative Features\n",
            "                passbook = True           Positi : Negati =     40.1 : 1.0\n",
            "                favorite = True           Positi : Negati =     37.5 : 1.0\n",
            "             outstanding = True           Positi : Negati =     32.4 : 1.0\n",
            "               fantastic = True           Positi : Negati =     30.3 : 1.0\n",
            "                   raise = True           Positi : Negati =     29.8 : 1.0\n",
            "               beautiful = True           Positi : Negati =     29.8 : 1.0\n",
            "                   kudos = True           Positi : Negati =     28.3 : 1.0\n",
            "                  online = True           Negati : Positi =     26.4 : 1.0\n",
            "                 awesome = True           Positi : Negati =     21.4 : 1.0\n",
            "               wonderful = True           Positi : Negati =     21.1 : 1.0\n",
            "None\n"
          ]
        }
      ]
    },
    {
      "cell_type": "markdown",
      "metadata": {
        "id": "8YqwIYmnhubr"
      },
      "source": [
        "### Naive Bayes"
      ]
    },
    {
      "cell_type": "code",
      "metadata": {
        "colab": {
          "base_uri": "https://localhost:8080/",
          "height": 534
        },
        "id": "XHfWmH3RhmAV",
        "outputId": "c8bdd611-de69-4e43-f859-0e68f4a80318"
      },
      "source": [
        "#plotting the best parameters\n",
        "import matplotlib.patches as mpatches\n",
        "import numpy as np\n",
        "import pandas as pd\n",
        "from pandas import Series, DataFrame\n",
        "import matplotlib.pyplot as plt\n",
        "data_classifier = [tweets_accuracy, reviews_accuracy]\n",
        "labels = ['Precisión tweets', 'Precisión reseñas']\n",
        "plt.xticks(range(len(data_classifier)), labels)\n",
        "plt.ylabel('Precisión')\n",
        "plt.title('Precisión del modelo en diferente contextos')\n",
        "plt.bar(range(len(data_classifier)), data_classifier,color=['blue','darkorange']) \n",
        "Train_acc = mpatches.Patch(color='blue', label='Aerolínea_acc')\n",
        "Test_acc = mpatches.Patch(color='darkorange', label='Película_acc')\n",
        "plt.legend(handles=[Train_acc, Test_acc],loc='best')\n",
        "plt.gcf().set_size_inches(8, 8)\n",
        "plt.show()\n",
        "print(\"Precisión tweets aerolínea: \", tweets_accuracy)\n",
        "print(\"Precisión reseñas películas: \", reviews_accuracy)"
      ],
      "execution_count": 236,
      "outputs": [
        {
          "output_type": "display_data",
          "data": {
            "image/png": "[encoded data removed]",
            "text/plain": [
              "<Figure size 576x576 with 1 Axes>"
            ]
          },
          "metadata": {
            "needs_background": "light"
          }
        },
        {
          "output_type": "stream",
          "name": "stdout",
          "text": [
            "Precisión tweets aerolínea:  0.9512173988389221\n",
            "Precisión reseñas películas:  0.68912\n"
          ]
        }
      ]
    }
  ]
}